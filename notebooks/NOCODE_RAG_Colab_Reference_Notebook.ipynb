{
  "cells": [
    {
      "cell_type": "code",
      "execution_count": null,
      "metadata": {
        "id": "ra0iwcbrMCEg"
      },
      "outputs": [],
      "source": [
        "%%capture\n",
        "!git clone https://github.com/sabeeralikp/NOCODE-RAG.git\n",
        "%cd NOCODE-RAG\n",
        "!git switch \"v0.0.1\""
      ]
    },
    {
      "cell_type": "code",
      "execution_count": null,
      "metadata": {
        "id": "GVWARZUHPAG9"
      },
      "outputs": [],
      "source": [
        "!pip install -q llama-index llama-index-embeddings-huggingface chromadb llama-index-vector-stores-chroma accelerate einops bitsandbytes llama-index-llms-huggingface fastapi \"uvicorn[standard]\" nest-asyncio pyngrok"
      ]
    },
    {
      "cell_type": "code",
      "execution_count": null,
      "metadata": {
        "id": "klb2DUk_PlJB"
      },
      "outputs": [],
      "source": [
        "import nest_asyncio\n",
        "from pyngrok import ngrok\n",
        "import uvicorn\n",
        "from main import app\n",
        "\n",
        "auth_token = \"your_ngork_token\"\n",
        "\n",
        "ngrok.set_auth_token(auth_token)\n",
        "ngrok_tunnel = ngrok.connect(8000)\n",
        "print('Public URL:', ngrok_tunnel.public_url)\n",
        "nest_asyncio.apply()\n",
        "uvicorn.run(app, port=8000)"
      ]
    },
    {
      "cell_type": "code",
      "execution_count": 7,
      "metadata": {
        "colab": {
          "base_uri": "https://localhost:8080/"
        },
        "id": "HU9UTWrTQt84",
        "outputId": "63f94dc3-a0ea-421a-e7bf-a16b7d384458"
      },
      "outputs": [
        {
          "output_type": "stream",
          "name": "stdout",
          "text": [
            "[Errno 2] No such file or directory: 'NOCODE-RAG'\n",
            "/content/NOCODE-RAG\n",
            "chromadb  LICENSE  main.py  package_commands.txt  __pycache__  README.md  test.pdf  utils.py\n"
          ]
        }
      ],
      "source": [
        "%cd NOCODE-RAG\n",
        "!git pull\n",
        "# !ls"
      ]
    },
    {
      "cell_type": "code",
      "execution_count": null,
      "metadata": {
        "id": "x1ULM5cyQirF"
      },
      "outputs": [],
      "source": []
    }
  ],
  "metadata": {
    "accelerator": "GPU",
    "colab": {
      "gpuType": "T4",
      "provenance": []
    },
    "kernelspec": {
      "display_name": "Python 3",
      "name": "python3"
    },
    "language_info": {
      "name": "python"
    }
  },
  "nbformat": 4,
  "nbformat_minor": 0
}