{
  "cells": [
    {
      "cell_type": "code",
      "execution_count": null,
      "metadata": {
        "id": "ra0iwcbrMCEg"
      },
      "outputs": [],
      "source": [
        "%%capture\n",
        "!git clone https://github.com/sabeeralikp/llama_flow.git\n",
        "%cd NOCODE-RAG\n",
        "!git switch \"v0.0.2-remote-colab\"\n",
        "%pip install -q -r requirements.txt\n",
        "%pip install nest-asyncio==1.6.0 pyngrok==7.1.6\n",
        "%cd app"
      ]
    },
    {
      "cell_type": "code",
      "execution_count": null,
      "metadata": {
        "id": "klb2DUk_PlJB"
      },
      "outputs": [],
      "source": [
        "import nest_asyncio\n",
        "from pyngrok import ngrok\n",
        "import uvicorn\n",
        "from app.main import app\n",
        "\n",
        "auth_token = \"paste_your_ngrok_auth_token_here\"\n",
        "\n",
        "ngrok.set_auth_token(auth_token)\n",
        "ngrok_tunnel = ngrok.connect(8000)\n",
        "print('Public URL:', ngrok_tunnel.public_url)\n",
        "nest_asyncio.apply()\n",
        "uvicorn.run(app, port=8000)"
      ]
    }
  ],
  "metadata": {
    "accelerator": "GPU",
    "colab": {
      "gpuType": "T4",
      "provenance": []
    },
    "kernelspec": {
      "display_name": "Python 3",
      "name": "python3"
    },
    "language_info": {
      "name": "python"
    }
  },
  "nbformat": 4,
  "nbformat_minor": 0
}
